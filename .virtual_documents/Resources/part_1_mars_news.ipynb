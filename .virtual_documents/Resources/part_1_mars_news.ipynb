


# Import Splinter and BeautifulSoup
from splinter import Browser
from bs4 import BeautifulSoup


browser = Browser('chrome')





# Visit the Mars news site
url = 'https://static.bc-edx.com/data/web/mars_news/index.html'
browser.visit(url)





# Create a Beautiful Soup object
html_content = """
<div class="list_text">
    <div class="content_title">NASA's Perseverance Rover Begins the Hunt for Signs of Ancient Life</div>
    <div class="article_teaser_body">NASA’s Perseverance rover has begun its search for signs of ancient life on Mars...</div>
</div>
<div class="list_text">
    <div class="content_title">NASA to Host Briefing on Perseverance Rover Mission Operations</div>
    <div class="article_teaser_body">Members of the mission will discuss the rover’s activities as it begins its science campaign...</div>
</div>
"""
soup = BeautifulSoup(html_content, 'html.parser')

print(soup.prettify())


# Extract all the text elements
articles = soup.find_all('div', class_='list_text')

print(articles)





# Create an empty list to store the dictionaries
scraped_data = []



# Loop through the text elements
for article in articles:
    
# Extract the title and preview text from the elements
    title = article.find('div', class_='content_title').text.strip()
    preview = article.find('div', class_='article_teaser_body').text.strip()
    
# Store each title and preview pair in a dictionary
    data_dict = {
        'title': title,
        'preview': preview
    }
    
# Add the dictionary to the list
    scraped_data.append(data_dict)




# Print the list to confirm success
print(scraped_data)


browser.quit()



