


# Import relevant libraries
from splinter import Browser
from bs4 import BeautifulSoup
import matplotlib.pyplot as plt
import pandas as pd


browser = Browser('chrome')





# Visit the website
# https://static.bc-edx.com/data/web/mars_facts/temperature.html
url = "https://static.bc-edx.com/data/web/mars_facts/temperature.html"  # Mars temperature site
response = requests.get(url)





# Create a Beautiful Soup Object
import requests

soup = BeautifulSoup(response.text, 'html.parser')
table = soup.find('table')



# Extract all rows of data
rows = table.find_all('tr')[1:]






# Create an empty list
Mars_Data = []

# Loop through the scraped data to create a list of rows
for row in rows:
    cols = row.find_all('td')
    row_data = [col.text.strip() for col in cols]
    Mars_Data.append(row_data)

print("First 5 rows of data:", Mars_Data[:5])


# Create a Pandas DataFrame by using the list of rows and a list of the column names
import pandas as pd

headers = ['id', 'terrestrial_date', 'sol', 'ls', 'month', 'min_temp', 'pressure']

df = pd.DataFrame(Mars_Data, columns=headers)



# Confirm DataFrame was created successfully
print(df.head())





# Examine data type of each column
print("Column Data Types:")
print(df.dtypes)

print("Column Data Types:")
print(df.dtypes)


# Change data types for data analysis
df['id'] = df['id'].astype(int)
df['terrestrial_date'] = pd.to_datetime(df['terrestrial_date'])
df['sol'] = df['sol'].astype(int)
df['ls'] = df['ls'].astype(float)
df['month'] = df['month'].astype(int)
df['min_temp'] = df['min_temp'].astype(float)
df['pressure'] = df['pressure'].astype(float)


# Confirm type changes were successful by examining data types again
print("Updated Column Data Types:")
print(df.dtypes)





# 1. How many months are there on Mars?
unique_months = df['month'].nunique()
print(f"Number of months on Mars: {unique_months}")


# 2. How many sols (Martian days) worth of data are there?
martian_days = df['sol'].nunique()
print(f"Number of Martian days worth of data: {martian_days}")


# 3. What is the average minimum temperature by month?
avg_min_temp_per_month = df.groupby('month')['min_temp'].mean()

coldest_month = avg_min_temp_per_month.idxmin()
warmest_month = avg_min_temp_per_month.idxmax()

print(f"Coldest month on Mars: {coldest_month}")
print(f"Warmest month on Mars: {warmest_month}")



# Plot the average minimum temperature by month
avg_min_temp_per_month.plot(kind='bar', title='Average Minimum Temperature by Month', ylabel='Temperature (°C)', xlabel='Month')
plt.show()


# Identify the coldest and hottest months in Curiosity's location by sorting the previous graph
avg_pressure_per_month = df.groupby('month')['pressure'].mean()

lowest_pressure_month = avg_pressure_per_month.idxmin()
highest_pressure_month = avg_pressure_per_month.idxmax()

print(f"Month with lowest atmospheric pressure: {lowest_pressure_month}")
print(f"Month with highest atmospheric pressure: {highest_pressure_month}")

avg_pressure_per_month.plot(kind='bar', title='Average Atmospheric Pressure by Month', ylabel='Pressure (Pa)', xlabel='Month')
plt.show()


# 4. What is the average pressure by month?
avg_pressure_per_month = df.groupby('month')['pressure'].mean()

print("Average Atmospheric Pressure by Month:")
print(avg_pressure_per_month)


# Plot the average pressure by month
avg_pressure_per_month.plot(kind='bar', title='Average Atmospheric Pressure by Month', ylabel='Pressure (Pa)', xlabel='Month', figsize=(8, 5))
plt.show()


# Identify the lowest and highest pressure months in Curiosity's location by sorting the previous graph
sorted_avg_pressure = avg_pressure_per_month.sort_values()

print("Sorted Average Atmospheric Pressure by Month:")
print(sorted_avg_pressure)

lowest_pressure_month = sorted_avg_pressure.idxmin()
highest_pressure_month = sorted_avg_pressure.idxmax()

print(f"\nMonth with Lowest Atmospheric Pressure: {lowest_pressure_month}")
print(f"Month with Highest Atmospheric Pressure: {highest_pressure_month}")

sorted_avg_pressure.plot(kind='bar', title='Sorted Average Atmospheric Pressure by Month', ylabel='Pressure (Pa)', xlabel='Month', figsize=(8, 5))
plt.show()


# 5. How many terrestrial (Earth) days are there in a Martian year?
# Visually estimate the result by plotting the daily minimum temperature of each observation in the data set.
import matplotlib.pyplot as plt

sol_period = 668

martian_year_in_earth_days = sol_period * 1.027

print(f"One Martian year is approximately {martian_year_in_earth_days:.2f} terrestrial (Earth) days.")

plt.figure(figsize=(10, 6))
plt.plot(df['sol'], df['min_temp'], label='Daily Minimum Temperature', color='blue')

plt.title('Daily Minimum Temperature Over Martian Days', fontsize=16)
plt.xlabel('Martian Sol (Day)', fontsize=12)
plt.ylabel('Minimum Temperature (°C)', fontsize=12)
plt.legend()
plt.grid(True)
plt.show()














# Write the data to a CSV
df.to_csv('mars_data_analysis.csv', index=False)

print("Data successfully written to 'mars_data_analysis.csv'")


browser.quit()



